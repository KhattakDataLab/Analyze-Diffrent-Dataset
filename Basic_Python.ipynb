{
  "nbformat": 4,
  "nbformat_minor": 0,
  "metadata": {
    "colab": {
      "provenance": [],
      "authorship_tag": "ABX9TyNMxRW9ZGAyfSLP7zwduZLO",
      "include_colab_link": true
    },
    "kernelspec": {
      "name": "python3",
      "display_name": "Python 3"
    },
    "language_info": {
      "name": "python"
    }
  },
  "cells": [
    {
      "cell_type": "markdown",
      "metadata": {
        "id": "view-in-github",
        "colab_type": "text"
      },
      "source": [
        "<a href=\"https://colab.research.google.com/github/KhattakDataLab/Analyze-Diffrent-Dataset/blob/main/Basic_Python.ipynb\" target=\"_parent\"><img src=\"https://colab.research.google.com/assets/colab-badge.svg\" alt=\"Open In Colab\"/></a>"
      ]
    },
    {
      "cell_type": "code",
      "execution_count": null,
      "metadata": {
        "id": "pmmYG_KV4A0P"
      },
      "outputs": [],
      "source": []
    },
    {
      "cell_type": "markdown",
      "source": [
        "Basic Python for Machine Learning"
      ],
      "metadata": {
        "id": "kYT_ZuvX4IrE"
      }
    },
    {
      "cell_type": "code",
      "source": [
        "print('Hello Zeeshan Khattak')"
      ],
      "metadata": {
        "colab": {
          "base_uri": "https://localhost:8080/"
        },
        "id": "KOKd4SHN4Mo0",
        "outputId": "8ff3c87e-f647-41f5-e485-9e4c432d4576"
      },
      "execution_count": 1,
      "outputs": [
        {
          "output_type": "stream",
          "name": "stdout",
          "text": [
            "Hello Zeeshan Khattak\n"
          ]
        }
      ]
    },
    {
      "cell_type": "code",
      "source": [
        "print(''' My name is Zeeshan Khattak . i belong to Distric Karak Khayber pukhton Khawa .\n",
        "i did my Bachelor in Computer from Abdul Wali khan University Mardan .\n",
        "By Profesion I am Junior Data Scientist\n",
        "''')"
      ],
      "metadata": {
        "colab": {
          "base_uri": "https://localhost:8080/"
        },
        "id": "d51u9e2G4S1j",
        "outputId": "af637417-8b21-4f14-98c6-71ef23b0f439"
      },
      "execution_count": 2,
      "outputs": [
        {
          "output_type": "stream",
          "name": "stdout",
          "text": [
            " My name is Zeeshan Khattak . i belong to Distric Karak Khayber pukhton Khawa .\n",
            "i did my Bachelor in Computer from Abdul Wali khan University Mardan .\n",
            "By Profesion I am Junior Data Scientist \n",
            "\n"
          ]
        }
      ]
    },
    {
      "cell_type": "code",
      "source": [],
      "metadata": {
        "id": "Bg5q88Gk5Dqr"
      },
      "execution_count": null,
      "outputs": []
    }
  ]
}